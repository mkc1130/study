{
 "cells": [
  {
   "cell_type": "code",
   "execution_count": 1,
   "metadata": {},
   "outputs": [
    {
     "data": {
      "text/plain": [
       "-35"
      ]
     },
     "execution_count": 1,
     "metadata": {},
     "output_type": "execute_result"
    }
   ],
   "source": [
    "a=input(\"식을 입력하십시오\").split('-')\n",
    "num = []\n",
    "for i in len(a) :\n",
    "    cnt = 0\n",
    "    j = i.split('+')\n",
    "    for k in j :\n",
    "        cnt += int(k)\n",
    "    num.append(cnt)\n",
    "n = num[0]\n",
    "for i in range (1,len(num)) :\n",
    "    n -= num[i]\n"
   ]
  }
 ],
 "metadata": {
  "interpreter": {
   "hash": "4e4d3b4a3935729933f0d5b03da5ff426a181ebfc80d3ecff7455b85aad2cac9"
  },
  "kernelspec": {
   "display_name": "Python 3.8.11 64-bit ('base': conda)",
   "name": "python3"
  },
  "language_info": {
   "codemirror_mode": {
    "name": "ipython",
    "version": 3
   },
   "file_extension": ".py",
   "mimetype": "text/x-python",
   "name": "python",
   "nbconvert_exporter": "python",
   "pygments_lexer": "ipython3",
   "version": "3.8.11"
  },
  "orig_nbformat": 4
 },
 "nbformat": 4,
 "nbformat_minor": 2
}
